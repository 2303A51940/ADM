{
  "nbformat": 4,
  "nbformat_minor": 0,
  "metadata": {
    "colab": {
      "provenance": [],
      "authorship_tag": "ABX9TyOnfAthsNrU06KaF+rGlSyg",
      "include_colab_link": true
    },
    "kernelspec": {
      "name": "python3",
      "display_name": "Python 3"
    },
    "language_info": {
      "name": "python"
    }
  },
  "cells": [
    {
      "cell_type": "markdown",
      "metadata": {
        "id": "view-in-github",
        "colab_type": "text"
      },
      "source": [
        "<a href=\"https://colab.research.google.com/github/2303A51940/ADM/blob/main/(ADM)Assignment_1.ipynb\" target=\"_parent\"><img src=\"https://colab.research.google.com/assets/colab-badge.svg\" alt=\"Open In Colab\"/></a>"
      ]
    },
    {
      "cell_type": "code",
      "source": [
        "import pandas as pd\n",
        "import numpy as np\n",
        "from sklearn.preprocessing import MinMaxScaler, StandardScaler"
      ],
      "metadata": {
        "id": "t93-6Sew8Kui"
      },
      "execution_count": 4,
      "outputs": []
    },
    {
      "cell_type": "code",
      "source": [
        "file_path = '/content/sample_data/employee_data.csv'\n",
        "data = pd.read_csv(file_path)"
      ],
      "metadata": {
        "id": "6HDu0-hG8iFT"
      },
      "execution_count": 5,
      "outputs": []
    },
    {
      "cell_type": "code",
      "source": [
        "print(\"Original Dataset:\")\n",
        "print(data)"
      ],
      "metadata": {
        "colab": {
          "base_uri": "https://localhost:8080/"
        },
        "id": "F1vRTLIe8iB7",
        "outputId": "03f2ef2b-e8c0-4df5-8e7d-81bd08a37ad8"
      },
      "execution_count": 6,
      "outputs": [
        {
          "output_type": "stream",
          "name": "stdout",
          "text": [
            "Original Dataset:\n",
            "    Employee_ID   Age    Salary  Job_Satisfaction  Work_Hours_Per_Week\n",
            "0          1001  50.0  108953.0               9.0                   36\n",
            "1          1002  36.0   82995.0               8.0                   59\n",
            "2          1003  29.0   70757.0               2.0                   30\n",
            "3          1004  42.0   39692.0               1.0                   30\n",
            "4          1005  40.0   75758.0               7.0                   54\n",
            "5          1006  44.0  102409.0               7.0                   56\n",
            "6          1007  32.0       NaN               NaN                   59\n",
            "7          1008  32.0   95697.0               5.0                   54\n",
            "8          1009  45.0   67065.0               3.0                   49\n",
            "9          1010  57.0       NaN               8.0                   42\n",
            "10         1011  45.0   41534.0               6.0                   38\n",
            "11         1012   NaN   70397.0               NaN                   32\n",
            "12         1013  43.0   31016.0               NaN                   36\n",
            "13         1014  23.0  119789.0               1.0                   35\n",
            "14         1015  45.0   85591.0               3.0                   37\n",
            "15         1016  51.0  119812.0               5.0                   56\n",
            "16         1017  59.0   53247.0               3.0                   38\n",
            "17         1018  23.0   54300.0               1.0                   59\n",
            "18         1019  42.0  104065.0               5.0                   34\n",
            "19         1020  54.0  112798.0              10.0                   30\n",
            "20         1021  33.0   39268.0               7.0                   48\n",
            "21         1022  43.0  116807.0               7.0                   39\n",
            "22         1023  46.0   42185.0               NaN                   41\n",
            "23         1024  48.0   93704.0               9.0                   53\n",
            "24         1025  49.0       NaN              10.0                   44\n",
            "25         1026  37.0   69099.0               NaN                   56\n",
            "26         1027  36.0       NaN               3.0                   51\n",
            "27         1028  24.0   68044.0               7.0                   53\n",
            "28         1029  58.0   81214.0               1.0                   38\n",
            "29         1030  28.0   91228.0               4.0                   49\n",
            "30         1031   NaN   78984.0               4.0                   46\n",
            "31         1032  30.0   70774.0               NaN                   59\n",
            "32         1033  39.0   32568.0               7.0                   46\n",
            "33         1034  25.0   92592.0               7.0                   55\n",
            "34         1035   NaN   97563.0               NaN                   49\n",
            "35         1036  35.0   32695.0               4.0                   41\n",
            "36         1037  30.0   78190.0               7.0                   59\n",
            "37         1038  47.0   35258.0               NaN                   36\n",
            "38         1039  23.0       NaN               3.0                   31\n",
            "39         1040   NaN   69504.0               6.0                   32\n",
            "40         1041  49.0   63159.0               2.0                   46\n",
            "41         1042  28.0   43986.0              10.0                   34\n",
            "42         1043  29.0   91858.0               9.0                   46\n",
            "43         1044  56.0   42666.0               5.0                   53\n",
            "44         1045  35.0   68660.0               6.0                   46\n",
            "45         1046  38.0   33561.0               4.0                   56\n",
            "46         1047  57.0   56854.0               NaN                   46\n",
            "47         1048  25.0   94505.0               NaN                   31\n",
            "48         1049  23.0   82251.0               7.0                   31\n",
            "49         1050   NaN   52662.0               9.0                   57\n"
          ]
        }
      ]
    },
    {
      "cell_type": "code",
      "source": [
        "min_max_scaler = MinMaxScaler()\n",
        "data[['Age', 'Salary']] = min_max_scaler.fit_transform(data[['Age', 'Salary']])"
      ],
      "metadata": {
        "id": "z72795J-8h_2"
      },
      "execution_count": 8,
      "outputs": []
    },
    {
      "cell_type": "code",
      "source": [
        "def min_max_scale_manual(column):\n",
        "\n",
        "      return (column - column.min()) / (column.max() - column.min())\n",
        "      data['Age_manual'] = min_max_scale_manual(data['Age'])\n",
        "      data['Salary_manual'] = min_max_scale_manual(data['Salary'])"
      ],
      "metadata": {
        "id": "DP-Xr2O48h9c"
      },
      "execution_count": 9,
      "outputs": []
    },
    {
      "cell_type": "code",
      "source": [
        "standard_scaler = StandardScaler()\n",
        "data[['Job_Satisfaction', 'Work_Hours_Per_Week']] = standard_scaler.fit_transform(data[['Job_Satisfaction', 'Work_Hours_Per_Week']])"
      ],
      "metadata": {
        "id": "9oRYr5w98h66"
      },
      "execution_count": 10,
      "outputs": []
    },
    {
      "cell_type": "code",
      "source": [
        "def z_score_normalize(column):\n",
        "    # Indent the return statement to be part of the function body\n",
        "    return (column - column.mean()) / column.std()"
      ],
      "metadata": {
        "id": "DTeHQ0ch9JGK"
      },
      "execution_count": 12,
      "outputs": []
    },
    {
      "cell_type": "code",
      "source": [
        "data['Job_Satisfaction_manual'] = z_score_normalize(data['Job_Satisfaction'])\n",
        "data['Work_Hours_Per_Week_manual'] = z_score_normalize(data['Work_Hours_Per_Week'])"
      ],
      "metadata": {
        "id": "TxP25Zv49JBh"
      },
      "execution_count": 13,
      "outputs": []
    },
    {
      "cell_type": "code",
      "source": [
        "print(\"\\nBeforePreprocessed Dataset:\")\n",
        "print(data)"
      ],
      "metadata": {
        "colab": {
          "base_uri": "https://localhost:8080/"
        },
        "id": "5WDfrUqf9I99",
        "outputId": "0704d18f-e499-45fd-de03-104204022db9"
      },
      "execution_count": 14,
      "outputs": [
        {
          "output_type": "stream",
          "name": "stdout",
          "text": [
            "\n",
            "BeforePreprocessed Dataset:\n",
            "    Employee_ID       Age  ...  Job_Satisfaction_manual  Work_Hours_Per_Week_manual\n",
            "0          1001  0.750000  ...                 1.265398                   -0.896864\n",
            "1          1002  0.361111  ...                 0.898616                    1.468717\n",
            "2          1003  0.166667  ...                -1.302077                   -1.513972\n",
            "3          1004  0.527778  ...                -1.668859                   -1.513972\n",
            "4          1005  0.472222  ...                 0.531834                    0.954461\n",
            "5          1006  0.583333  ...                 0.531834                    1.160163\n",
            "6          1007  0.250000  ...                      NaN                    1.468717\n",
            "7          1008  0.250000  ...                -0.201730                    0.954461\n",
            "8          1009  0.611111  ...                -0.935294                    0.440204\n",
            "9          1010  0.944444  ...                 0.898616                   -0.279756\n",
            "10         1011  0.611111  ...                 0.165052                   -0.691161\n",
            "11         1012       NaN  ...                      NaN                   -1.308269\n",
            "12         1013  0.555556  ...                      NaN                   -0.896864\n",
            "13         1014  0.000000  ...                -1.668859                   -0.999715\n",
            "14         1015  0.611111  ...                -0.935294                   -0.794012\n",
            "15         1016  0.777778  ...                -0.201730                    1.160163\n",
            "16         1017  1.000000  ...                -0.935294                   -0.691161\n",
            "17         1018  0.000000  ...                -1.668859                    1.468717\n",
            "18         1019  0.527778  ...                -0.201730                   -1.102567\n",
            "19         1020  0.861111  ...                 1.632181                   -1.513972\n",
            "20         1021  0.277778  ...                 0.531834                    0.337352\n",
            "21         1022  0.555556  ...                 0.531834                   -0.588310\n",
            "22         1023  0.638889  ...                      NaN                   -0.382607\n",
            "23         1024  0.694444  ...                 1.265398                    0.851609\n",
            "24         1025  0.722222  ...                 1.632181                   -0.074053\n",
            "25         1026  0.388889  ...                      NaN                    1.160163\n",
            "26         1027  0.361111  ...                -0.935294                    0.645907\n",
            "27         1028  0.027778  ...                 0.531834                    0.851609\n",
            "28         1029  0.972222  ...                -1.668859                   -0.691161\n",
            "29         1030  0.138889  ...                -0.568512                    0.440204\n",
            "30         1031       NaN  ...                -0.568512                    0.131650\n",
            "31         1032  0.194444  ...                      NaN                    1.468717\n",
            "32         1033  0.444444  ...                 0.531834                    0.131650\n",
            "33         1034  0.055556  ...                 0.531834                    1.057312\n",
            "34         1035       NaN  ...                      NaN                    0.440204\n",
            "35         1036  0.333333  ...                -0.568512                   -0.382607\n",
            "36         1037  0.194444  ...                 0.531834                    1.468717\n",
            "37         1038  0.666667  ...                      NaN                   -0.896864\n",
            "38         1039  0.000000  ...                -0.935294                   -1.411121\n",
            "39         1040       NaN  ...                 0.165052                   -1.308269\n",
            "40         1041  0.722222  ...                -1.302077                    0.131650\n",
            "41         1042  0.138889  ...                 1.632181                   -1.102567\n",
            "42         1043  0.166667  ...                 1.265398                    0.131650\n",
            "43         1044  0.916667  ...                -0.201730                    0.851609\n",
            "44         1045  0.333333  ...                 0.165052                    0.131650\n",
            "45         1046  0.416667  ...                -0.568512                    1.160163\n",
            "46         1047  0.944444  ...                      NaN                    0.131650\n",
            "47         1048  0.055556  ...                      NaN                   -1.411121\n",
            "48         1049  0.000000  ...                 0.531834                   -1.411121\n",
            "49         1050       NaN  ...                 1.265398                    1.263015\n",
            "\n",
            "[50 rows x 7 columns]\n"
          ]
        }
      ]
    },
    {
      "cell_type": "code",
      "source": [
        "print(\"\\nDataset after preprocessing:\")\n",
        "print(data)"
      ],
      "metadata": {
        "colab": {
          "base_uri": "https://localhost:8080/"
        },
        "id": "BnidzV7a9I75",
        "outputId": "0b05058f-2bb5-4dc1-f320-428d4665c97f"
      },
      "execution_count": 15,
      "outputs": [
        {
          "output_type": "stream",
          "name": "stdout",
          "text": [
            "\n",
            "Dataset after preprocessing:\n",
            "    Employee_ID       Age  ...  Job_Satisfaction_manual  Work_Hours_Per_Week_manual\n",
            "0          1001  0.750000  ...                 1.265398                   -0.896864\n",
            "1          1002  0.361111  ...                 0.898616                    1.468717\n",
            "2          1003  0.166667  ...                -1.302077                   -1.513972\n",
            "3          1004  0.527778  ...                -1.668859                   -1.513972\n",
            "4          1005  0.472222  ...                 0.531834                    0.954461\n",
            "5          1006  0.583333  ...                 0.531834                    1.160163\n",
            "6          1007  0.250000  ...                      NaN                    1.468717\n",
            "7          1008  0.250000  ...                -0.201730                    0.954461\n",
            "8          1009  0.611111  ...                -0.935294                    0.440204\n",
            "9          1010  0.944444  ...                 0.898616                   -0.279756\n",
            "10         1011  0.611111  ...                 0.165052                   -0.691161\n",
            "11         1012       NaN  ...                      NaN                   -1.308269\n",
            "12         1013  0.555556  ...                      NaN                   -0.896864\n",
            "13         1014  0.000000  ...                -1.668859                   -0.999715\n",
            "14         1015  0.611111  ...                -0.935294                   -0.794012\n",
            "15         1016  0.777778  ...                -0.201730                    1.160163\n",
            "16         1017  1.000000  ...                -0.935294                   -0.691161\n",
            "17         1018  0.000000  ...                -1.668859                    1.468717\n",
            "18         1019  0.527778  ...                -0.201730                   -1.102567\n",
            "19         1020  0.861111  ...                 1.632181                   -1.513972\n",
            "20         1021  0.277778  ...                 0.531834                    0.337352\n",
            "21         1022  0.555556  ...                 0.531834                   -0.588310\n",
            "22         1023  0.638889  ...                      NaN                   -0.382607\n",
            "23         1024  0.694444  ...                 1.265398                    0.851609\n",
            "24         1025  0.722222  ...                 1.632181                   -0.074053\n",
            "25         1026  0.388889  ...                      NaN                    1.160163\n",
            "26         1027  0.361111  ...                -0.935294                    0.645907\n",
            "27         1028  0.027778  ...                 0.531834                    0.851609\n",
            "28         1029  0.972222  ...                -1.668859                   -0.691161\n",
            "29         1030  0.138889  ...                -0.568512                    0.440204\n",
            "30         1031       NaN  ...                -0.568512                    0.131650\n",
            "31         1032  0.194444  ...                      NaN                    1.468717\n",
            "32         1033  0.444444  ...                 0.531834                    0.131650\n",
            "33         1034  0.055556  ...                 0.531834                    1.057312\n",
            "34         1035       NaN  ...                      NaN                    0.440204\n",
            "35         1036  0.333333  ...                -0.568512                   -0.382607\n",
            "36         1037  0.194444  ...                 0.531834                    1.468717\n",
            "37         1038  0.666667  ...                      NaN                   -0.896864\n",
            "38         1039  0.000000  ...                -0.935294                   -1.411121\n",
            "39         1040       NaN  ...                 0.165052                   -1.308269\n",
            "40         1041  0.722222  ...                -1.302077                    0.131650\n",
            "41         1042  0.138889  ...                 1.632181                   -1.102567\n",
            "42         1043  0.166667  ...                 1.265398                    0.131650\n",
            "43         1044  0.916667  ...                -0.201730                    0.851609\n",
            "44         1045  0.333333  ...                 0.165052                    0.131650\n",
            "45         1046  0.416667  ...                -0.568512                    1.160163\n",
            "46         1047  0.944444  ...                      NaN                    0.131650\n",
            "47         1048  0.055556  ...                      NaN                   -1.411121\n",
            "48         1049  0.000000  ...                 0.531834                   -1.411121\n",
            "49         1050       NaN  ...                 1.265398                    1.263015\n",
            "\n",
            "[50 rows x 7 columns]\n"
          ]
        }
      ]
    }
  ]
}